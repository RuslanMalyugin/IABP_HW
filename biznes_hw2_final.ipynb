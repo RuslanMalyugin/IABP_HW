{
  "cells": [
    {
      "cell_type": "markdown",
      "metadata": {
        "id": "r6txV1_J5I2W"
      },
      "source": [
        "## Assignment 1 - Alpha algorithm"
      ]
    },
    {
      "cell_type": "markdown",
      "metadata": {
        "id": "nv4bmv4l5I2a"
      },
      "source": [
        "##### Input - list of tuples of str's: [(str1, ..., strL), (strJ,...strK), ..., (strM,...,strN)]\n",
        "##### Output - set of tuples of tuples str's {((str1,...,strI), (strL,...,strK)),...}"
      ]
    },
    {
      "cell_type": "code",
      "execution_count": null,
      "metadata": {
        "id": "mc0_4IYi5I2c"
      },
      "outputs": [],
      "source": [
        "from petri_net import PetriNet\n",
        "from subprocess import check_call"
      ]
    },
    {
      "cell_type": "code",
      "execution_count": null,
      "metadata": {
        "id": "79a4zn3w5I2f"
      },
      "outputs": [],
      "source": [
        "log = [['a', 'b', 'c', 'd'], ['a', 'c', 'b', 'd'], ['a', 'e', 'd']]"
      ]
    },
    {
      "cell_type": "markdown",
      "metadata": {
        "id": "7jwCamJ15I2m"
      },
      "source": [
        "#### Step 4. Make dataset"
      ]
    },
    {
      "cell_type": "markdown",
      "metadata": {
        "id": "_RQGL0cZ5I2m"
      },
      "source": [
        "1. Define functions for causality, parallel and unrelated pairs<br>\n",
        "2. Create footprint matrix<br>\n",
        "3. Create pairs of events<br>\n",
        "4. Iterate until no non-maximal pairs available"
      ]
    },
    {
      "cell_type": "code",
      "source": [
        "\n",
        "def get_start_end_activities(log):\n",
        "    start_activities = set()\n",
        "    end_activities = set()\n",
        "    for trace in log:\n",
        "        if trace:\n",
        "            start_activities.add(trace[0])\n",
        "            end_activities.add(trace[-1])\n",
        "    return start_activities, end_activities\n",
        "\n",
        "def get_directly_follows_pairs(log):\n",
        "    directly_follows = set()\n",
        "    for trace in log:\n",
        "        for i in range(len(trace) - 1):\n",
        "            directly_follows.add((trace[i], trace[i + 1]))\n",
        "    return directly_follows\n",
        "\n",
        "def get_causal_relations(directly_follows):\n",
        "    causal_relations = set()\n",
        "    parallel_relations = set()\n",
        "    for a, b in directly_follows:\n",
        "        if (b, a) not in directly_follows:\n",
        "            causal_relations.add((a, b))\n",
        "        else:\n",
        "            parallel_relations.add((a, b))\n",
        "            parallel_relations.add((b, a))\n",
        "    return causal_relations, parallel_relations\n",
        "\n",
        "def get_alpha_relations(log):\n",
        "    directly_follows = get_directly_follows_pairs(log)\n",
        "    causal_relations, parallel_relations = get_causal_relations(directly_follows)\n",
        "\n",
        "    alpha_relations = set()\n",
        "    activities = {act for trace in log for act in trace}\n",
        "\n",
        "    for act1 in activities:\n",
        "        for act2 in activities:\n",
        "            if act1 != act2:\n",
        "                act1_to = {b for (a, b) in causal_relations if a == act1}\n",
        "                to_act2 = {a for (a, b) in causal_relations if b == act2}\n",
        "                if act1_to & to_act2:\n",
        "                    alpha_relations.add(((act1,), tuple(act1_to & to_act2)))\n",
        "\n",
        "    return alpha_relations\n",
        "\n",
        "def alpha_miner(log):\n",
        "    start_activities, end_activities = get_start_end_activities(log)\n",
        "    alpha_relations = get_alpha_relations(log)\n",
        "\n",
        "    relations = set()\n",
        "    for start in start_activities:\n",
        "        for follow_set in alpha_relations:\n",
        "            if start in follow_set[0]:\n",
        "                relations.add(((start,), follow_set[1]))\n",
        "\n",
        "    final_relations = set()\n",
        "    for (a, b) in relations:\n",
        "        for end in end_activities:\n",
        "            if end in b:\n",
        "                final_relations.add((a, (end,)))\n",
        "            else:\n",
        "                final_relations.add((a, b))\n",
        "\n",
        "    return final_relations\n",
        "\n",
        "log = [['a', 'b', 'c', 'd'], ['a', 'c', 'b', 'd'], ['a', 'e', 'd']]\n",
        "\n",
        "events = log\n",
        "start_nodes, end_nodes = get_start_end_activities(log)\n",
        "result = alpha_miner(log)"
      ],
      "metadata": {
        "id": "guMHvGySKOg8"
      },
      "execution_count": null,
      "outputs": []
    },
    {
      "cell_type": "code",
      "source": [
        "result"
      ],
      "metadata": {
        "colab": {
          "base_uri": "https://localhost:8080/"
        },
        "id": "SaIPW-LtGQx-",
        "outputId": "428082fb-2c96-414d-a5c7-9d1b9752b49a"
      },
      "execution_count": null,
      "outputs": [
        {
          "output_type": "execute_result",
          "data": {
            "text/plain": [
              "{(('a',), ('c', 'e')),\n",
              " (('a',), ('e', 'b')),\n",
              " (('c', 'e'), ('d',)),\n",
              " (('e', 'b'), ('d',))}"
            ]
          },
          "metadata": {},
          "execution_count": 15
        }
      ]
    },
    {
      "cell_type": "markdown",
      "metadata": {
        "id": "hSocGZGM5I2o"
      },
      "source": [
        "Expected output (order irrelevant): {(('a',), ('c', 'e')),\n",
        " (('a',), ('e', 'b')),\n",
        " (('c', 'e'), ('d',)),\n",
        " (('e', 'b'), ('d',))}"
      ]
    },
    {
      "cell_type": "markdown",
      "metadata": {
        "id": "JLwAgTJZ5I2o"
      },
      "source": [
        "#### Let's check the result with PetriNet drawer"
      ]
    },
    {
      "cell_type": "code",
      "execution_count": null,
      "metadata": {
        "id": "iXuwguIM5I2o",
        "colab": {
          "base_uri": "https://localhost:8080/",
          "height": 481
        },
        "outputId": "b3fa0908-7a01-4dc6-a5cf-045c2f52353c"
      },
      "outputs": [
        {
          "output_type": "error",
          "ename": "TypeError",
          "evalue": "unsupported operand type(s) for -: 'list' and 'set'",
          "traceback": [
            "\u001b[0;31m---------------------------------------------------------------------------\u001b[0m",
            "\u001b[0;31mTypeError\u001b[0m                                 Traceback (most recent call last)",
            "\u001b[0;32m<ipython-input-16-8f9dee9aa424>\u001b[0m in \u001b[0;36m<cell line: 3>\u001b[0;34m()\u001b[0m\n\u001b[1;32m      1\u001b[0m \u001b[0mpn\u001b[0m \u001b[0;34m=\u001b[0m \u001b[0mPetriNet\u001b[0m\u001b[0;34m(\u001b[0m\u001b[0;34m)\u001b[0m\u001b[0;34m\u001b[0m\u001b[0;34m\u001b[0m\u001b[0m\n\u001b[1;32m      2\u001b[0m \u001b[0mfilename\u001b[0m \u001b[0;34m=\u001b[0m \u001b[0;34m'my_first_alpha_miner'\u001b[0m\u001b[0;34m\u001b[0m\u001b[0;34m\u001b[0m\u001b[0m\n\u001b[0;32m----> 3\u001b[0;31m pn.generate_with_alpha(tl=events,\n\u001b[0m\u001b[1;32m      4\u001b[0m                        \u001b[0mti\u001b[0m\u001b[0;34m=\u001b[0m\u001b[0mstart_nodes\u001b[0m\u001b[0;34m,\u001b[0m\u001b[0;34m\u001b[0m\u001b[0;34m\u001b[0m\u001b[0m\n\u001b[1;32m      5\u001b[0m                        \u001b[0mto\u001b[0m\u001b[0;34m=\u001b[0m\u001b[0mend_nodes\u001b[0m\u001b[0;34m,\u001b[0m\u001b[0;34m\u001b[0m\u001b[0;34m\u001b[0m\u001b[0m\n",
            "\u001b[0;32m/content/petri_net.py\u001b[0m in \u001b[0;36mgenerate_with_alpha\u001b[0;34m(self, tl, ti, to, yl, dotfile)\u001b[0m\n\u001b[1;32m     20\u001b[0m         \u001b[0mself\u001b[0m\u001b[0;34m.\u001b[0m\u001b[0minput\u001b[0m \u001b[0;34m=\u001b[0m \u001b[0mti\u001b[0m\u001b[0;34m\u001b[0m\u001b[0;34m\u001b[0m\u001b[0m\n\u001b[1;32m     21\u001b[0m         \u001b[0mself\u001b[0m\u001b[0;34m.\u001b[0m\u001b[0moutput\u001b[0m \u001b[0;34m=\u001b[0m \u001b[0mto\u001b[0m\u001b[0;34m\u001b[0m\u001b[0;34m\u001b[0m\u001b[0m\n\u001b[0;32m---> 22\u001b[0;31m         \u001b[0miso\u001b[0m \u001b[0;34m=\u001b[0m \u001b[0mself\u001b[0m\u001b[0;34m.\u001b[0m\u001b[0m__isolated_transitions\u001b[0m\u001b[0;34m(\u001b[0m\u001b[0mtl\u001b[0m\u001b[0;34m,\u001b[0m \u001b[0myl\u001b[0m\u001b[0;34m,\u001b[0m \u001b[0mti\u001b[0m\u001b[0;34m,\u001b[0m \u001b[0mto\u001b[0m\u001b[0;34m)\u001b[0m\u001b[0;34m\u001b[0m\u001b[0;34m\u001b[0m\u001b[0m\n\u001b[0m\u001b[1;32m     23\u001b[0m         \u001b[0mdigraph\u001b[0m \u001b[0;34m=\u001b[0m \u001b[0mself\u001b[0m\u001b[0;34m.\u001b[0m\u001b[0m__pn_description\u001b[0m\u001b[0;34m(\u001b[0m\u001b[0myl\u001b[0m\u001b[0;34m,\u001b[0m \u001b[0mti\u001b[0m\u001b[0;34m,\u001b[0m \u001b[0mto\u001b[0m\u001b[0;34m,\u001b[0m \u001b[0miso\u001b[0m\u001b[0;34m)\u001b[0m\u001b[0;34m\u001b[0m\u001b[0;34m\u001b[0m\u001b[0m\n\u001b[1;32m     24\u001b[0m         \u001b[0;32mwith\u001b[0m \u001b[0mopen\u001b[0m\u001b[0;34m(\u001b[0m\u001b[0mdotfile\u001b[0m\u001b[0;34m,\u001b[0m \u001b[0;34m'w'\u001b[0m\u001b[0;34m)\u001b[0m \u001b[0;32mas\u001b[0m \u001b[0mf\u001b[0m\u001b[0;34m:\u001b[0m\u001b[0;34m\u001b[0m\u001b[0;34m\u001b[0m\u001b[0m\n",
            "\u001b[0;32m/content/petri_net.py\u001b[0m in \u001b[0;36m__isolated_transitions\u001b[0;34m(self, tl, yl, ti, to)\u001b[0m\n\u001b[1;32m     59\u001b[0m \u001b[0;34m\u001b[0m\u001b[0m\n\u001b[1;32m     60\u001b[0m         \u001b[0mappeared\u001b[0m \u001b[0;34m=\u001b[0m \u001b[0mti\u001b[0m \u001b[0;34m|\u001b[0m \u001b[0mto\u001b[0m \u001b[0;34m|\u001b[0m \u001b[0myl_transitions\u001b[0m  \u001b[0;31m# \"|\" for set union\u001b[0m\u001b[0;34m\u001b[0m\u001b[0;34m\u001b[0m\u001b[0m\n\u001b[0;32m---> 61\u001b[0;31m         \u001b[0miso\u001b[0m \u001b[0;34m=\u001b[0m \u001b[0mtl\u001b[0m \u001b[0;34m-\u001b[0m \u001b[0mappeared\u001b[0m\u001b[0;34m\u001b[0m\u001b[0;34m\u001b[0m\u001b[0m\n\u001b[0m\u001b[1;32m     62\u001b[0m         \u001b[0;32mreturn\u001b[0m \u001b[0miso\u001b[0m\u001b[0;34m\u001b[0m\u001b[0;34m\u001b[0m\u001b[0m\n",
            "\u001b[0;31mTypeError\u001b[0m: unsupported operand type(s) for -: 'list' and 'set'"
          ]
        }
      ],
      "source": [
        "pn = PetriNet()\n",
        "filename = 'my_first_alpha_miner'\n",
        "pn.generate_with_alpha(tl=events,\n",
        "                       ti=start_nodes,\n",
        "                       to=end_nodes,\n",
        "                       yl=result,\n",
        "                       dotfile=\"{}.dot\".format(filename))\n",
        "check_call([\"dot\", \"-Tpng\", \"{}.dot\".format(filename),\"-o\", \"{}.png\".format(filename)])"
      ]
    },
    {
      "cell_type": "markdown",
      "metadata": {
        "id": "izkRcWpM5I2p"
      },
      "source": [
        "## Another log for testing"
      ]
    },
    {
      "cell_type": "markdown",
      "metadata": {
        "id": "CW09Gnt35I2p"
      },
      "source": [
        "Input:"
      ]
    },
    {
      "cell_type": "code",
      "execution_count": null,
      "metadata": {
        "id": "0cfV7bZJ5I2p",
        "outputId": "4fab34d3-fc3d-4391-d5ec-9f0ccc4081ab",
        "colab": {
          "base_uri": "https://localhost:8080/"
        }
      },
      "outputs": [
        {
          "output_type": "execute_result",
          "data": {
            "text/plain": [
              "[('a', 'b', 'e', 'f'),\n",
              " ('a', 'b', 'e', 'c', 'd', 'b', 'f'),\n",
              " ('a', 'b', 'c', 'e', 'd', 'b', 'f'),\n",
              " ('a', 'b', 'c', 'd', 'e', 'b', 'f'),\n",
              " ('a', 'e', 'b', 'c', 'd', 'b', 'f')]"
            ]
          },
          "metadata": {},
          "execution_count": 65
        }
      ],
      "source": [
        "log = [('a', 'b', 'e', 'f'),\n",
        " ('a', 'b', 'e', 'c', 'd', 'b', 'f'),\n",
        " ('a', 'b', 'c', 'e', 'd', 'b', 'f'),\n",
        " ('a', 'b', 'c', 'd', 'e', 'b', 'f'),\n",
        " ('a', 'e', 'b', 'c', 'd', 'b', 'f')]\n",
        "log"
      ]
    },
    {
      "cell_type": "code",
      "source": [
        "result = alpha_miner(log)"
      ],
      "metadata": {
        "id": "bZ5HT63HKU5p"
      },
      "execution_count": null,
      "outputs": []
    },
    {
      "cell_type": "code",
      "source": [
        "result"
      ],
      "metadata": {
        "colab": {
          "base_uri": "https://localhost:8080/"
        },
        "id": "KSKQTPFSKW5f",
        "outputId": "c2c68b40-f902-42e5-986a-28531e3123c5"
      },
      "execution_count": null,
      "outputs": [
        {
          "output_type": "execute_result",
          "data": {
            "text/plain": [
              "{(('a',), ('e',)),\n",
              " (('a', 'd'), ('b',)),\n",
              " (('b',), ('c', 'f')),\n",
              " (('c',), ('d',)),\n",
              " (('e',), ('f',))}"
            ]
          },
          "metadata": {},
          "execution_count": 23
        }
      ]
    },
    {
      "cell_type": "markdown",
      "metadata": {
        "id": "WUNlYT3S5I2q"
      },
      "source": [
        "Expected output:"
      ]
    },
    {
      "cell_type": "code",
      "execution_count": null,
      "metadata": {
        "id": "3mcffS6I5I2r",
        "outputId": "56da8b15-8a25-4593-bebb-573f9239e2ca",
        "colab": {
          "base_uri": "https://localhost:8080/"
        }
      },
      "outputs": [
        {
          "output_type": "execute_result",
          "data": {
            "text/plain": [
              "{(('a',), ('e',)),\n",
              " (('a', 'd'), ('b',)),\n",
              " (('b',), ('c', 'f')),\n",
              " (('c',), ('d',)),\n",
              " (('e',), ('f',))}"
            ]
          },
          "metadata": {},
          "execution_count": 21
        }
      ],
      "source": [
        "dataset = {(('a',), ('e',)), (('a', 'd'), ('b',)), (('b',), ('c', 'f')), (('c',), ('d',)), (('e',), ('f',))}\n",
        "dataset"
      ]
    },
    {
      "cell_type": "code",
      "source": [],
      "metadata": {
        "id": "xmtCGzW-E__i"
      },
      "execution_count": null,
      "outputs": []
    }
  ],
  "metadata": {
    "kernelspec": {
      "display_name": "Python 3",
      "language": "python",
      "name": "python3"
    },
    "language_info": {
      "codemirror_mode": {
        "name": "ipython",
        "version": 3
      },
      "file_extension": ".py",
      "mimetype": "text/x-python",
      "name": "python",
      "nbconvert_exporter": "python",
      "pygments_lexer": "ipython3",
      "version": "3.6.5"
    },
    "colab": {
      "provenance": []
    }
  },
  "nbformat": 4,
  "nbformat_minor": 0
}